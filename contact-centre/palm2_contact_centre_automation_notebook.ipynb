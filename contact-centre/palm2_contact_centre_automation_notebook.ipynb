{
  "nbformat": 4,
  "nbformat_minor": 0,
  "metadata": {
    "colab": {
      "provenance": []
    },
    "kernelspec": {
      "name": "python3",
      "display_name": "Python 3"
    },
    "language_info": {
      "name": "python"
    }
  },
  "cells": [
    {
      "cell_type": "code",
      "execution_count": null,
      "metadata": {
        "id": "LG6QDoKxq5aK"
      },
      "outputs": [],
      "source": [
        "! pip install google-cloud-aiplatform vertexai langchain streamlit transformers datasets"
      ]
    },
    {
      "cell_type": "code",
      "source": [
        "import streamlit as st\n",
        "import vertexai\n",
        "\n",
        "from datasets import load_dataset\n",
        "from google.cloud import aiplatform\n",
        "from langchain.llms import VertexAI\n",
        "from langchain.chains import SequentialChain\n",
        "from langchain.prompts import ChatPromptTemplate\n",
        "from langchain.chains import LLMChain\n",
        "from PIL import Image"
      ],
      "metadata": {
        "id": "1OKqht3hrvSe"
      },
      "execution_count": null,
      "outputs": []
    },
    {
      "cell_type": "code",
      "source": [
        "PROJECT_ID = \"ibm-keras\"\n",
        "REGION = \"us-central1\"\n",
        "\n",
        "aiplatform.init(\n",
        "    project=PROJECT_ID,\n",
        "    location=REGION\n",
        ")\n",
        "vertexai.init(\n",
        "    project=PROJECT_ID,\n",
        "    location=REGION\n",
        ")"
      ],
      "metadata": {
        "id": "kaSOUKZrrx1g"
      },
      "execution_count": null,
      "outputs": []
    },
    {
      "cell_type": "code",
      "source": [
        "ignore_warnings = True\n",
        "\n",
        "llm = VertexAI(\n",
        "    model_name=\"text-bison@001\",\n",
        "    max_output_tokens=256,\n",
        "    temperature=0.1,\n",
        "    top_p=0.8,\n",
        "    top_k=40,\n",
        "    verbose=False,\n",
        "    ignore_warnings=True\n",
        ")"
      ],
      "metadata": {
        "id": "acMQ7s-Rr2fa"
      },
      "execution_count": null,
      "outputs": []
    },
    {
      "cell_type": "code",
      "source": [
        "# load the dataset from huggingface\n",
        "dataset = load_dataset(\"banking77\")\n",
        "# Sort the dataset by the length of the customer texts\n",
        "sorted_data = sorted(dataset['train'], key=lambda x: len(x['text']), reverse=True)\n",
        "longest_ten_texts = [entry[\"text\"] for entry in sorted_data[:10]]\n",
        "\n",
        "# SequentialChain\n",
        "english_translator_prompt = ChatPromptTemplate.from_template(\n",
        "    \"Translate the following enquiry to english:{Review}\")\n",
        "\n",
        "# chain 1: input= Review and output= English_Review\n",
        "english_translator_chain = LLMChain(llm=llm, prompt=english_translator_prompt, output_key=\"English_Review\")\n",
        "\n",
        "# summary chain\n",
        "summary_prompt = ChatPromptTemplate.from_template(\n",
        "    \"Can you summarize the following enquiry in no longer than 100 words?: {English_Review}\")\n",
        "\n",
        "# chain 2: input= English_Review and output= summary\n",
        "summary_chain = LLMChain(llm=llm, prompt=summary_prompt, output_key=\"summary\")\n",
        "\n",
        "# sentiment chain\n",
        "sentiment_prompt = ChatPromptTemplate.from_template(\"Identify the sentiment of the the following enquiry in single \"\n",
        "                                                    \"word, positive, negative or neutral: {summary}\")\n",
        "\n",
        "sentiment_chain = LLMChain(llm=llm, prompt=sentiment_prompt, output_key=\"sentiment\")\n",
        "\n",
        "# Intent chain\n",
        "intent_prompt = ChatPromptTemplate.from_template(\"Identify the intent of the the following enquiry in single sentence\"\n",
        "                                                 \"\\n\\n{summary}\"\n",
        "                                                 )\n",
        "intent_chain = LLMChain(llm=llm, prompt=intent_prompt, output_key=\"intent\")\n",
        "\n",
        "# Identity the original language the enquiry was written in\n",
        "language_prompt = ChatPromptTemplate.from_template(\"What language is the following enquiry:\\n\\n{Review}\")\n",
        "\n",
        "# input= Review and output= language\n",
        "language_chain = LLMChain(llm=llm, prompt=language_prompt, output_key=\"language\")\n",
        "\n",
        "# prompt template 4: follow-up message\n",
        "response_prompt = ChatPromptTemplate.from_template(\n",
        "    \"Write a follow up response in very professionally to the following \"\n",
        "    \"summary and sentiment in the specified language:\"\n",
        "    \"\\n\\nSummary: {summary}\\n\\nsentiment: {sentiment}\\n\\nLanguage: {language}\"\n",
        ")\n",
        "# chain 4: input= summary, language and output= followup_message\n",
        "response_chain = LLMChain(llm=llm, prompt=response_prompt, output_key=\"followup_message\")\n",
        "\n",
        "# overall_chain: input= Review\n",
        "# and output= English_Review,summary, follow up_message\n",
        "overall_chain = SequentialChain(\n",
        "    chains=[english_translator_chain, summary_chain, sentiment_chain, intent_chain, language_chain, response_chain],\n",
        "    input_variables=[\"Review\"],\n",
        "    output_variables=[\"English_Review\", \"summary\", \"sentiment\", \"intent\", \"language\", \"followup_message\"],\n",
        "    verbose=True\n",
        ")"
      ],
      "metadata": {
        "id": "gvFpDnxDr6uf"
      },
      "execution_count": null,
      "outputs": []
    },
    {
      "cell_type": "code",
      "source": [
        "def display_row(customer_enquery):\n",
        "    return overall_chain(customer_enquery)\n",
        "\n",
        "# page construction\n",
        "st.set_page_config(page_title=\"Contact Centre Automation for ABC Plc\", layout=\"wide\",\n",
        "                   initial_sidebar_state=\"collapsed\", page_icon=\"robo.png\")\n",
        "\n",
        "icon = Image.open(\"../trader-dashboard/robo.png\")\n",
        "st.image(icon, width=100)\n",
        "\n",
        "st.title(\"Contact Centre Automation for ABC Plc\")\n",
        "# Generate a dropdown with options from longest_ten_texts\n",
        "selected_enquery = st.selectbox('Select an Enquery', longest_ten_texts)\n",
        "\n",
        "# Call the display_row function and print the result\n",
        "result = display_row(selected_enquery)\n",
        "st.write(result)"
      ],
      "metadata": {
        "id": "sHf0LZR-rhzd"
      },
      "execution_count": null,
      "outputs": []
    }
  ]
}