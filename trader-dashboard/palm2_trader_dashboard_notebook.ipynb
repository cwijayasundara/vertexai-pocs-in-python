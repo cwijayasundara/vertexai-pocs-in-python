{
  "nbformat": 4,
  "nbformat_minor": 0,
  "metadata": {
    "colab": {
      "provenance": []
    },
    "kernelspec": {
      "name": "python3",
      "display_name": "Python 3"
    },
    "language_info": {
      "name": "python"
    }
  },
  "cells": [
    {
      "cell_type": "code",
      "execution_count": null,
      "metadata": {
        "id": "1u9_XlblsZrO"
      },
      "outputs": [],
      "source": [
        "! pip install google-cloud-aiplatform vertexai langchain chromadb streamlit pypdf transformers"
      ]
    },
    {
      "cell_type": "code",
      "source": [
        "import streamlit as st\n",
        "import vertexai\n",
        "\n",
        "from google.cloud import aiplatform\n",
        "from langchain.llms import VertexAI\n",
        "from langchain.document_loaders import PyPDFLoader\n",
        "from langchain.chains.summarize import load_summarize_chain\n",
        "from langchain.text_splitter import RecursiveCharacterTextSplitter\n",
        "from langchain.embeddings import VertexAIEmbeddings\n",
        "from langchain.vectorstores import Chroma\n",
        "from langchain.chains import RetrievalQA\n",
        "from PIL import Image"
      ],
      "metadata": {
        "id": "zf_S-oxitBVy"
      },
      "execution_count": null,
      "outputs": []
    },
    {
      "cell_type": "code",
      "source": [
        "PROJECT_ID = \"ibm-keras\"\n",
        "REGION = \"us-central1\"\n",
        "\n",
        "aiplatform.init(\n",
        "    project=PROJECT_ID,\n",
        "    location=REGION\n",
        ")\n",
        "vertexai.init(\n",
        "    project=PROJECT_ID,\n",
        "    location=REGION\n",
        ")\n",
        "\n",
        "ignore_warnings = True"
      ],
      "metadata": {
        "id": "4-T7fNcytDs0"
      },
      "execution_count": null,
      "outputs": []
    },
    {
      "cell_type": "code",
      "source": [
        "llm = VertexAI(\n",
        "    model_name=\"text-bison@001\",\n",
        "    max_output_tokens=256,\n",
        "    temperature=0.1,\n",
        "    top_p=0.8,\n",
        "    top_k=40,\n",
        "    verbose=False,\n",
        "    ignore_warnings=True\n",
        ")\n",
        "# Embedding\n",
        "embeddings = VertexAIEmbeddings(model_name=\"textembedding-gecko@001\")"
      ],
      "metadata": {
        "id": "DIXa7_7WtGbT"
      },
      "execution_count": null,
      "outputs": []
    },
    {
      "cell_type": "code",
      "source": [
        "def upload_sec_file_to_vector_db(fileUrl):\n",
        "    loader = PyPDFLoader(fileUrl)\n",
        "    documents = loader.load()\n",
        "    text_splitter = RecursiveCharacterTextSplitter(chunk_size=1500, chunk_overlap=0)\n",
        "    docs = text_splitter.split_documents(documents)\n",
        "    print(f\"# of documents = {len(docs)}\")\n",
        "    db = Chroma.from_documents(docs, embeddings)\n",
        "    retriever = db.as_retriever(search_type=\"similarity\", search_kwargs={\"k\": 2})\n",
        "    return retriever\n",
        "\n",
        "\n",
        "def query_vector_store(retriever, query):\n",
        "    # Uses Vertex PaLM Text API for LLM to synthesize results from the search index.\n",
        "    qa = RetrievalQA.from_chain_type(\n",
        "        llm=llm, chain_type=\"stuff\", retriever=retriever, return_source_documents=True\n",
        "    )\n",
        "    result = qa({\"query\": query})\n",
        "    return result\n",
        "\n",
        "\n",
        "def summerise_large_pdf(fileUrl):\n",
        "    loader = PyPDFLoader(fileUrl)\n",
        "    documents = loader.load()\n",
        "    text_splitter = RecursiveCharacterTextSplitter(chunk_size=1500, chunk_overlap=50)\n",
        "    texts = text_splitter.split_documents(documents)\n",
        "    chain = load_summarize_chain(llm, chain_type=\"map_reduce\", verbose=True)\n",
        "    return chain.run(texts)"
      ],
      "metadata": {
        "id": "3-zNX25EtKRI"
      },
      "execution_count": null,
      "outputs": []
    },
    {
      "cell_type": "code",
      "source": [
        "stocks = {\n",
        "    \"Alphabet - 'GOOG'\": {\"name\": \"Alphabet Inc.\", \"symbol\": \"GOOG\", \"cik\": \"0001652044\",\n",
        "                          \"url\": \"https://abc.xyz/assets/a7/5b/9e5ae0364b12b4c883f3cf748226/goog-exhibit-99-1-q1-2023-19.pdf\",\n",
        "                          \"ten_k_url\": \"https://abc.xyz/assets/9a/bd/838c917c4b4ab21f94e84c3c2c65/goog-10-k-q4-2022.pdf\"},\n",
        "    \"Apple - 'AAPL'\": {\"name\": \"APPLE INC\", \"symbol\": \"AAPL\", \"cik\": \"0000320193\",\n",
        "                       \"url\": \"https://www.apple.com/newsroom/pdfs/FY23_Q2_Consolidated_Financial_Statements.pdf\",\n",
        "                       \"ten_k_url\": \"https://d18rn0p25nwr6d.cloudfront.net/CIK-0000320193/b4266e40-1de6-4a34-9dfb-8632b8bd57e0.pdf\"}\n",
        "}"
      ],
      "metadata": {
        "id": "8BxfPATOtOVT"
      },
      "execution_count": null,
      "outputs": []
    },
    {
      "cell_type": "code",
      "source": [
        "# page construction\n",
        "st.set_page_config(page_title=\"Relationship Manager Investment Dashboard ABC Plc\", layout=\"wide\",\n",
        "                   initial_sidebar_state=\"collapsed\", page_icon=\"robo.png\")\n",
        "\n",
        "col1, col2 = st.columns((1, 3))\n",
        "icon = Image.open(\"robo.png\")\n",
        "col1.image(icon, width=100)\n",
        "\n",
        "st.title(\"Relationship Manager Investment Dashboard ABC Plc\")\n",
        "\n",
        "selected_stock = col1.selectbox(\"Select a stock\", options=list(stocks.keys()))\n",
        "\n",
        "selected_stock_name = stocks[selected_stock][\"name\"]\n",
        "selected_stock_url = stocks[selected_stock][\"url\"]\n",
        "selected_stock_ten_k_url = stocks[selected_stock][\"ten_k_url\"]\n",
        "\n",
        "col2.subheader(\"Summary of Last Quarter Financial Performance\")\n",
        "col2.write(summerise_large_pdf(selected_stock_url))\n",
        "\n",
        "vector_store_hook = upload_sec_file_to_vector_db(selected_stock_ten_k_url)\n",
        "\n",
        "col2.subheader(\"Summary of Last Year Financial Performance\")\n",
        "col2.write(query_vector_store(vector_store_hook, \"What are the key products and services of\",selected_stock_name, \"?\"))\n",
        "col2.write(query_vector_store(vector_store_hook, \"What are the new products and growth opportunities for\",selected_stock_name, \"?\"))\n",
        "col2.write(query_vector_store(vector_store_hook, \"What are the key strengths of\",selected_stock_name, \"?\"))\n",
        "col2.write(query_vector_store(vector_store_hook, \"What are the key competitors of\",selected_stock_name, \"?\"))\n",
        "col2.write(query_vector_store(vector_store_hook, \"What are the principal threats to\",selected_stock_name, \"?\"))\n",
        "col2.write(query_vector_store(vector_store_hook, \"What are the key risks to\",selected_stock_name, \"?\"))\n",
        "col2.write(query_vector_store(vector_store_hook, \"What are the key opportunities for\",selected_stock_name, \"?\"))\n",
        "col2.write(query_vector_store(vector_store_hook, \"What are the key challenges for\",selected_stock_name, \"?\"))\n",
        "\n",
        "col2.subheader(\"Chat With Last Year Financial Performance !\")\n",
        "col2.write(\"Please Enter Your Query in Plain Text ! \", key=\"query\")\n",
        "result = query_vector_store(vector_store_hook, st.session_state.query)\n",
        "col2.write(result)"
      ],
      "metadata": {
        "id": "uiLqldSNs4Lm"
      },
      "execution_count": null,
      "outputs": []
    }
  ]
}